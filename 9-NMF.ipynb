{
 "cells": [
  {
   "cell_type": "code",
   "execution_count": 2,
   "metadata": {},
   "outputs": [],
   "source": [
    "import pandas as pd"
   ]
  },
  {
   "cell_type": "code",
   "execution_count": 3,
   "metadata": {},
   "outputs": [],
   "source": [
    "df_rate = pd.read_csv('../data/play_rate.csv')"
   ]
  },
  {
   "cell_type": "code",
   "execution_count": 4,
   "metadata": {},
   "outputs": [
    {
     "data": {
      "text/html": [
       "<div>\n",
       "<style scoped>\n",
       "    .dataframe tbody tr th:only-of-type {\n",
       "        vertical-align: middle;\n",
       "    }\n",
       "\n",
       "    .dataframe tbody tr th {\n",
       "        vertical-align: top;\n",
       "    }\n",
       "\n",
       "    .dataframe thead th {\n",
       "        text-align: right;\n",
       "    }\n",
       "</style>\n",
       "<table border=\"1\" class=\"dataframe\">\n",
       "  <thead>\n",
       "    <tr style=\"text-align: right;\">\n",
       "      <th></th>\n",
       "      <th>Unnamed: 0</th>\n",
       "      <th>Unnamed: 0.1</th>\n",
       "      <th>uid</th>\n",
       "      <th>song_id</th>\n",
       "      <th>play_ratio</th>\n",
       "      <th>freq</th>\n",
       "      <th>user_id_map</th>\n",
       "      <th>song_id_map</th>\n",
       "    </tr>\n",
       "  </thead>\n",
       "  <tbody>\n",
       "    <tr>\n",
       "      <th>0</th>\n",
       "      <td>0</td>\n",
       "      <td>0</td>\n",
       "      <td>12333</td>\n",
       "      <td>703693.0</td>\n",
       "      <td>0.821429</td>\n",
       "      <td>12</td>\n",
       "      <td>0</td>\n",
       "      <td>0</td>\n",
       "    </tr>\n",
       "    <tr>\n",
       "      <th>1</th>\n",
       "      <td>1</td>\n",
       "      <td>1</td>\n",
       "      <td>12333</td>\n",
       "      <td>708428.0</td>\n",
       "      <td>9.682796</td>\n",
       "      <td>13</td>\n",
       "      <td>0</td>\n",
       "      <td>1</td>\n",
       "    </tr>\n",
       "    <tr>\n",
       "      <th>2</th>\n",
       "      <td>2</td>\n",
       "      <td>2</td>\n",
       "      <td>12333</td>\n",
       "      <td>875447.0</td>\n",
       "      <td>8.418803</td>\n",
       "      <td>11</td>\n",
       "      <td>0</td>\n",
       "      <td>2</td>\n",
       "    </tr>\n",
       "    <tr>\n",
       "      <th>3</th>\n",
       "      <td>3</td>\n",
       "      <td>3</td>\n",
       "      <td>12333</td>\n",
       "      <td>5114569.0</td>\n",
       "      <td>7.802120</td>\n",
       "      <td>4092</td>\n",
       "      <td>0</td>\n",
       "      <td>3</td>\n",
       "    </tr>\n",
       "    <tr>\n",
       "      <th>4</th>\n",
       "      <td>4</td>\n",
       "      <td>4</td>\n",
       "      <td>12333</td>\n",
       "      <td>5237384.0</td>\n",
       "      <td>8.000000</td>\n",
       "      <td>6079</td>\n",
       "      <td>0</td>\n",
       "      <td>4</td>\n",
       "    </tr>\n",
       "  </tbody>\n",
       "</table>\n",
       "</div>"
      ],
      "text/plain": [
       "   Unnamed: 0  Unnamed: 0.1    uid    song_id  play_ratio  freq  user_id_map  \\\n",
       "0           0             0  12333   703693.0    0.821429    12            0   \n",
       "1           1             1  12333   708428.0    9.682796    13            0   \n",
       "2           2             2  12333   875447.0    8.418803    11            0   \n",
       "3           3             3  12333  5114569.0    7.802120  4092            0   \n",
       "4           4             4  12333  5237384.0    8.000000  6079            0   \n",
       "\n",
       "   song_id_map  \n",
       "0            0  \n",
       "1            1  \n",
       "2            2  \n",
       "3            3  \n",
       "4            4  "
      ]
     },
     "execution_count": 4,
     "metadata": {},
     "output_type": "execute_result"
    }
   ],
   "source": [
    "df_rate.head(5)"
   ]
  },
  {
   "cell_type": "code",
   "execution_count": 7,
   "metadata": {},
   "outputs": [],
   "source": [
    "condition1 = df_rate['play_ratio'] >= 0\n",
    "condition2 = df_rate['freq'] >= 10\n",
    "df_rate = df_rate[condition1 & condition2]"
   ]
  },
  {
   "cell_type": "code",
   "execution_count": 8,
   "metadata": {},
   "outputs": [
    {
     "data": {
      "text/plain": [
       "10014056"
      ]
     },
     "execution_count": 8,
     "metadata": {},
     "output_type": "execute_result"
    }
   ],
   "source": [
    "df_rate.size"
   ]
  },
  {
   "cell_type": "code",
   "execution_count": 9,
   "metadata": {},
   "outputs": [
    {
     "data": {
      "text/plain": [
       "20814"
      ]
     },
     "execution_count": 9,
     "metadata": {},
     "output_type": "execute_result"
    }
   ],
   "source": [
    "len(df_rate.song_id.unique())"
   ]
  },
  {
   "cell_type": "code",
   "execution_count": 11,
   "metadata": {},
   "outputs": [
    {
     "data": {
      "text/plain": [
       "<49816x20813 sparse matrix of type '<type 'numpy.float64'>'\n",
       "\twith 0 stored elements in LInked List format>"
      ]
     },
     "execution_count": 11,
     "metadata": {},
     "output_type": "execute_result"
    }
   ],
   "source": [
    "from scipy import sparse\n",
    "highest_user_id = df_rate.user_id_map.max() \n",
    "highest_song_id = df_rate.song_id_map.max() \n",
    "ratings_mat = sparse.lil_matrix((highest_user_id, highest_song_id)) \n",
    "ratings_mat"
   ]
  },
  {
   "cell_type": "code",
   "execution_count": 13,
   "metadata": {},
   "outputs": [],
   "source": [
    "for _, row in df_rate.iterrows():\n",
    "    # subtract 1 from id's due to match 0 indexing \n",
    "    ratings_mat[row.user_id_map-1, row.song_id_map-1] = row.play_ratio"
   ]
  },
  {
   "cell_type": "code",
   "execution_count": 14,
   "metadata": {},
   "outputs": [],
   "source": [
    "from sklearn.decomposition import TruncatedSVD"
   ]
  },
  {
   "cell_type": "code",
   "execution_count": 15,
   "metadata": {},
   "outputs": [],
   "source": [
    "def fit_uvd(M,k):\n",
    "    # use TruncatedSVD to realize UVD \n",
    "    svd = TruncatedSVD(n_components=k, n_iter=7, random_state=0) \n",
    "    svd.fit(M)\n",
    "\n",
    "    V = svd.components_ \n",
    "    U = svd.transform(M)\n",
    "    \n",
    "    return U,V, svd\n",
    "\n",
    "U,V,svd = fit_uvd(ratings_mat,200)"
   ]
  },
  {
   "cell_type": "code",
   "execution_count": 16,
   "metadata": {},
   "outputs": [
    {
     "name": "stdout",
     "output_type": "stream",
     "text": [
      "((49816, 200), (200, 20813))\n"
     ]
    }
   ],
   "source": [
    "print(U.shape,V.shape)"
   ]
  },
  {
   "cell_type": "code",
   "execution_count": 18,
   "metadata": {},
   "outputs": [
    {
     "name": "stdout",
     "output_type": "stream",
     "text": [
      "704.7594953676677\n",
      "2.229688318700422\n"
     ]
    }
   ],
   "source": [
    "import numpy as np\n",
    "# reconstruct \n",
    "ratings_mat_fitted = U.dot(V) # U*V\n",
    "errs = np.array((ratings_mat-ratings_mat_fitted).flatten()).squeeze() \n",
    "mask = np.array((ratings_mat.todense()).flatten()).squeeze()>0\n",
    "\n",
    "# calculate errs\n",
    "mse = np.mean(errs[mask]**2) \n",
    "average_abs_err = abs(errs[mask]).mean() \n",
    "print(mse) \n",
    "print(average_abs_err)"
   ]
  },
  {
   "cell_type": "code",
   "execution_count": 19,
   "metadata": {},
   "outputs": [
    {
     "name": "stdout",
     "output_type": "stream",
     "text": [
      "0.0\n"
     ]
    }
   ],
   "source": [
    "# compare with another way to reconstruct matrix # with the above \"tranformed to the new space and back\" language # without the UV language, we can do:\n",
    "\n",
    "# reconstruct M \n",
    "with inverse_transform \n",
    "ratings_mat_fitted_2 = svd.inverse_transform(svd.transform(ratings_mat)) \n",
    "ratings_mat_fitted = U.dot(V) \n",
    "print(sum(sum(ratings_mat_fitted - ratings_mat_fitted_2)))"
   ]
  },
  {
   "cell_type": "code",
   "execution_count": 20,
   "metadata": {},
   "outputs": [
    {
     "data": {
      "text/plain": [
       "[183, 2215, 1833, 3579, 578, 2373, 2109, 790, 252, 10217]"
      ]
     },
     "execution_count": 20,
     "metadata": {},
     "output_type": "execute_result"
    }
   ],
   "source": [
    "user_id = 12311\n",
    "n = 10\n",
    "\n",
    "pred_ratings = ratings_mat_fitted[user_id,:] \n",
    "item_index_sorted_by_pred_rating = list(np.argsort(pred_ratings))[::-1]\n",
    "\n",
    "items_rated_by_this_user = ratings_mat[user_id].nonzero()[1]\n",
    "\n",
    "unrated_items_by_pred_rating = [item for item in item_index_sorted_by_pred_rating if item not in items_rated_by_this_user]\n",
    "\n",
    "unrated_items_by_pred_rating[:n]"
   ]
  },
  {
   "cell_type": "code",
   "execution_count": 22,
   "metadata": {},
   "outputs": [
    {
     "name": "stderr",
     "output_type": "stream",
     "text": [
      "/home/zhengyzhou040820/.local/lib/python2.7/site-packages/IPython/core/interactiveshell.py:2714: DtypeWarning: Columns (1) have mixed types. Specify dtype option on import or set low_memory=False.\n",
      "  interactivity=interactivity, compiler=compiler, result=result)\n"
     ]
    }
   ],
   "source": [
    "df_song_info = pd.read_csv('../data/play/song_info.csv')\n",
    "df_song_info = df_song_info.drop(['Unnamed: 0'],axis=1)"
   ]
  },
  {
   "cell_type": "code",
   "execution_count": 23,
   "metadata": {},
   "outputs": [
    {
     "data": {
      "text/plain": [
       "[song_id      6.61337e+06\n",
       " song_type              0\n",
       " song_name        My Type\n",
       " singer           iKON[韩]\n",
       " Name: 37402, dtype: object, song_id        462233\n",
       " song_type           2\n",
       " song_name    我和草原有个约定\n",
       " singer           降央卓玛\n",
       " Name: 2546, dtype: object, song_id      6.63714e+06\n",
       " song_type              0\n",
       " song_name     酒干倘卖无(现场版)\n",
       " singer               汤晶锦\n",
       " Name: 15689, dtype: object, song_id         7.08001e+06\n",
       " song_type                 1\n",
       " song_name    你开心所以我快乐(DJ何鹏)\n",
       " singer             司徒兰芳&安东阳\n",
       " Name: 86469, dtype: object, song_id      7.01065e+06\n",
       " song_type              0\n",
       " song_name           虎口脱险\n",
       " singer                老狼\n",
       " Name: 8554, dtype: object, song_id      3.42906e+06\n",
       " song_type              0\n",
       " song_name         男人酒女人泪\n",
       " singer                陈瑞\n",
       " Name: 132879, dtype: object, song_id      5.9125e+06\n",
       " song_type             1\n",
       " song_name    我的天空(小黄人版)\n",
       " singer             网络歌手\n",
       " Name: 113646, dtype: object, song_id      1.09788e+06\n",
       " song_type              0\n",
       " song_name             兄弟\n",
       " singer              龙井说唱\n",
       " Name: 1566, dtype: object, song_id      8.76227e+06\n",
       " song_type              0\n",
       " song_name          我还爱着你\n",
       " singer              零点乐队\n",
       " Name: 7155, dtype: object, song_id      2.57683e+06\n",
       " song_type              0\n",
       " song_name           恨爱交加\n",
       " singer               麦振鸿\n",
       " Name: 345125, dtype: object]"
      ]
     },
     "execution_count": 23,
     "metadata": {},
     "output_type": "execute_result"
    }
   ],
   "source": [
    "recommend_list = []\n",
    "for i in range(10):\n",
    "    song_map_id = unrated_items_by_pred_rating[i]\n",
    "    song_id = df_rate[df_rate['song_id_map'] == song_map_id]['song_id'].unique()[0]\n",
    "    recommend_list.append(df_song_info[df_song_info['song_id'] == song_id].iloc[0])\n",
    "recommend_list"
   ]
  },
  {
   "cell_type": "code",
   "execution_count": null,
   "metadata": {},
   "outputs": [],
   "source": []
  }
 ],
 "metadata": {
  "kernelspec": {
   "display_name": "Python 2",
   "language": "python",
   "name": "python2"
  },
  "language_info": {
   "codemirror_mode": {
    "name": "ipython",
    "version": 2
   },
   "file_extension": ".py",
   "mimetype": "text/x-python",
   "name": "python",
   "nbconvert_exporter": "python",
   "pygments_lexer": "ipython2",
   "version": "2.7.14"
  }
 },
 "nbformat": 4,
 "nbformat_minor": 2
}
