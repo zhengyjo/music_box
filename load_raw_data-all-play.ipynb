{
 "cells": [
  {
   "cell_type": "markdown",
   "metadata": {},
   "source": [
    "## Play Data"
   ]
  },
  {
   "cell_type": "code",
   "execution_count": 5,
   "metadata": {},
   "outputs": [],
   "source": [
    "import pandas as pd\n",
    "\n",
    "schema = ['uid','device','song_id','song_type','song_name','singer','play_time','song_length','paid_flag','date']\n",
    "df = pd.read_csv('../data/play/all_play_log',delimiter='\\t',header=None,index_col=None,names=schema)"
   ]
  },
  {
   "cell_type": "code",
   "execution_count": 6,
   "metadata": {},
   "outputs": [
    {
     "data": {
      "text/html": [
       "<div>\n",
       "<style scoped>\n",
       "    .dataframe tbody tr th:only-of-type {\n",
       "        vertical-align: middle;\n",
       "    }\n",
       "\n",
       "    .dataframe tbody tr th {\n",
       "        vertical-align: top;\n",
       "    }\n",
       "\n",
       "    .dataframe thead th {\n",
       "        text-align: right;\n",
       "    }\n",
       "</style>\n",
       "<table border=\"1\" class=\"dataframe\">\n",
       "  <thead>\n",
       "    <tr style=\"text-align: right;\">\n",
       "      <th></th>\n",
       "      <th>uid</th>\n",
       "      <th>device</th>\n",
       "      <th>song_id</th>\n",
       "      <th>song_type</th>\n",
       "      <th>song_name</th>\n",
       "      <th>singer</th>\n",
       "      <th>play_time</th>\n",
       "      <th>song_length</th>\n",
       "      <th>paid_flag</th>\n",
       "      <th>date</th>\n",
       "    </tr>\n",
       "  </thead>\n",
       "  <tbody>\n",
       "    <tr>\n",
       "      <th>0</th>\n",
       "      <td>1.68551e+08</td>\n",
       "      <td>ar</td>\n",
       "      <td>23491655</td>\n",
       "      <td>0</td>\n",
       "      <td>裂心</td>\n",
       "      <td>林志炫</td>\n",
       "      <td>254</td>\n",
       "      <td>254</td>\n",
       "      <td>0</td>\n",
       "      <td>2.01703e+07</td>\n",
       "    </tr>\n",
       "    <tr>\n",
       "      <th>1</th>\n",
       "      <td>1.6854e+08</td>\n",
       "      <td>ar</td>\n",
       "      <td>298250</td>\n",
       "      <td>0</td>\n",
       "      <td>See You Again</td>\n",
       "      <td>Miley Cyrus</td>\n",
       "      <td>189</td>\n",
       "      <td>190</td>\n",
       "      <td>0</td>\n",
       "      <td>2.01703e+07</td>\n",
       "    </tr>\n",
       "    <tr>\n",
       "      <th>2</th>\n",
       "      <td>1.68551e+08</td>\n",
       "      <td>ar</td>\n",
       "      <td>11881432</td>\n",
       "      <td>0</td>\n",
       "      <td>一梦浮生</td>\n",
       "      <td>颜淡妖妖</td>\n",
       "      <td>78</td>\n",
       "      <td>149</td>\n",
       "      <td>0</td>\n",
       "      <td>2.01703e+07</td>\n",
       "    </tr>\n",
       "    <tr>\n",
       "      <th>3</th>\n",
       "      <td>1.6855e+08</td>\n",
       "      <td>ip</td>\n",
       "      <td>295469</td>\n",
       "      <td>0</td>\n",
       "      <td>凡人歌</td>\n",
       "      <td>高胜美</td>\n",
       "      <td>16</td>\n",
       "      <td>242</td>\n",
       "      <td>0</td>\n",
       "      <td>2.01703e+07</td>\n",
       "    </tr>\n",
       "    <tr>\n",
       "      <th>4</th>\n",
       "      <td>1.68551e+08</td>\n",
       "      <td>ip</td>\n",
       "      <td>21393368</td>\n",
       "      <td>0</td>\n",
       "      <td>重生（Intro）</td>\n",
       "      <td>幼稚园杀手</td>\n",
       "      <td>87</td>\n",
       "      <td>87</td>\n",
       "      <td>0</td>\n",
       "      <td>2.01703e+07</td>\n",
       "    </tr>\n",
       "    <tr>\n",
       "      <th>5</th>\n",
       "      <td>1.6855e+08</td>\n",
       "      <td>ar</td>\n",
       "      <td>12495422</td>\n",
       "      <td>0</td>\n",
       "      <td>收好，你们要的高中数学课</td>\n",
       "      <td>3D奇妙听觉馆</td>\n",
       "      <td>369</td>\n",
       "      <td>2747</td>\n",
       "      <td>0</td>\n",
       "      <td>2.01703e+07</td>\n",
       "    </tr>\n",
       "    <tr>\n",
       "      <th>6</th>\n",
       "      <td>1.68551e+08</td>\n",
       "      <td>ar</td>\n",
       "      <td>20671171</td>\n",
       "      <td>0</td>\n",
       "      <td>Shape Of You</td>\n",
       "      <td>Ed Sheeran</td>\n",
       "      <td>231</td>\n",
       "      <td>231</td>\n",
       "      <td>0</td>\n",
       "      <td>2.01703e+07</td>\n",
       "    </tr>\n",
       "    <tr>\n",
       "      <th>7</th>\n",
       "      <td>1.68535e+08</td>\n",
       "      <td>ar</td>\n",
       "      <td>6616004</td>\n",
       "      <td>0</td>\n",
       "      <td>大雨还在下(DJ版)</td>\n",
       "      <td>DJ舞曲</td>\n",
       "      <td>283</td>\n",
       "      <td>283</td>\n",
       "      <td>0</td>\n",
       "      <td>2.01703e+07</td>\n",
       "    </tr>\n",
       "    <tr>\n",
       "      <th>8</th>\n",
       "      <td>1.6854e+08</td>\n",
       "      <td>ar</td>\n",
       "      <td>4732048</td>\n",
       "      <td>0</td>\n",
       "      <td>哦想(舞曲版 Dj Pw Remix)</td>\n",
       "      <td>安与骑兵</td>\n",
       "      <td>197</td>\n",
       "      <td>198</td>\n",
       "      <td>0</td>\n",
       "      <td>2.01703e+07</td>\n",
       "    </tr>\n",
       "    <tr>\n",
       "      <th>9</th>\n",
       "      <td>1.68551e+08</td>\n",
       "      <td>ar</td>\n",
       "      <td>3378911</td>\n",
       "      <td>0</td>\n",
       "      <td>为情所伤</td>\n",
       "      <td>庄心妍</td>\n",
       "      <td>14</td>\n",
       "      <td>212</td>\n",
       "      <td>0</td>\n",
       "      <td>2.01703e+07</td>\n",
       "    </tr>\n",
       "  </tbody>\n",
       "</table>\n",
       "</div>"
      ],
      "text/plain": [
       "           uid device   song_id song_type            song_name       singer  \\\n",
       "0  1.68551e+08     ar  23491655         0                   裂心          林志炫   \n",
       "1   1.6854e+08     ar    298250         0        See You Again  Miley Cyrus   \n",
       "2  1.68551e+08     ar  11881432         0                 一梦浮生         颜淡妖妖   \n",
       "3   1.6855e+08     ip    295469         0                  凡人歌          高胜美   \n",
       "4  1.68551e+08     ip  21393368         0            重生（Intro）        幼稚园杀手   \n",
       "5   1.6855e+08     ar  12495422         0         收好，你们要的高中数学课      3D奇妙听觉馆   \n",
       "6  1.68551e+08     ar  20671171         0         Shape Of You   Ed Sheeran   \n",
       "7  1.68535e+08     ar   6616004         0           大雨还在下(DJ版)         DJ舞曲   \n",
       "8   1.6854e+08     ar   4732048         0  哦想(舞曲版 Dj Pw Remix)         安与骑兵   \n",
       "9  1.68551e+08     ar   3378911         0                 为情所伤          庄心妍   \n",
       "\n",
       "  play_time song_length paid_flag         date  \n",
       "0       254         254         0  2.01703e+07  \n",
       "1       189         190         0  2.01703e+07  \n",
       "2        78         149         0  2.01703e+07  \n",
       "3        16         242         0  2.01703e+07  \n",
       "4        87          87         0  2.01703e+07  \n",
       "5       369        2747         0  2.01703e+07  \n",
       "6       231         231         0  2.01703e+07  \n",
       "7       283         283         0  2.01703e+07  \n",
       "8       197         198         0  2.01703e+07  \n",
       "9        14         212         0  2.01703e+07  "
      ]
     },
     "execution_count": 6,
     "metadata": {},
     "output_type": "execute_result"
    }
   ],
   "source": [
    "df.head(10)"
   ]
  },
  {
   "cell_type": "code",
   "execution_count": 5,
   "metadata": {},
   "outputs": [
    {
     "data": {
      "text/plain": [
       "0.0     1631080\n",
       "1.0      208354\n",
       "2.0       18585\n",
       "3.0         356\n",
       "40.0         51\n",
       "30.0         42\n",
       "34.0         27\n",
       "39.0         26\n",
       "33.0         23\n",
       "31.0         23\n",
       "Name: song_type, dtype: int64"
      ]
     },
     "execution_count": 5,
     "metadata": {},
     "output_type": "execute_result"
    }
   ],
   "source": [
    "df.song_type.value_counts().head(10)"
   ]
  },
  {
   "cell_type": "code",
   "execution_count": 7,
   "metadata": {},
   "outputs": [
    {
     "data": {
      "text/plain": [
       "ar        42077184\n",
       "ip         6375098\n",
       "薛之谦            786\n",
       "梦然             514\n",
       "mc             405\n",
       "苏勒亚其其格         361\n",
       "云菲菲            323\n",
       "庄心妍            299\n",
       "乌兰图雅           283\n",
       "王冕             252\n",
       "Name: device, dtype: int64"
      ]
     },
     "execution_count": 7,
     "metadata": {},
     "output_type": "execute_result"
    }
   ],
   "source": [
    "df.device.value_counts().head(10)"
   ]
  },
  {
   "cell_type": "code",
   "execution_count": 8,
   "metadata": {},
   "outputs": [],
   "source": [
    "df_song_list = df[['song_id','song_type','song_name','singer']]"
   ]
  },
  {
   "cell_type": "code",
   "execution_count": 13,
   "metadata": {
    "scrolled": true
   },
   "outputs": [
    {
     "name": "stderr",
     "output_type": "stream",
     "text": [
      "/home/zhengyzhou040820/.local/lib/python2.7/site-packages/ipykernel_launcher.py:1: SettingWithCopyWarning: \n",
      "A value is trying to be set on a copy of a slice from a DataFrame.\n",
      "Try using .loc[row_indexer,col_indexer] = value instead\n",
      "\n",
      "See the caveats in the documentation: http://pandas.pydata.org/pandas-docs/stable/indexing.html#indexing-view-versus-copy\n",
      "  \"\"\"Entry point for launching an IPython kernel.\n"
     ]
    }
   ],
   "source": [
    "df_song_list['song_type'] = pd.to_numeric(df_song_list['song_type'], errors='coerce')"
   ]
  },
  {
   "cell_type": "code",
   "execution_count": 15,
   "metadata": {},
   "outputs": [],
   "source": [
    "df_song_list = df_song_list.drop_duplicates()"
   ]
  },
  {
   "cell_type": "code",
   "execution_count": 16,
   "metadata": {
    "scrolled": true
   },
   "outputs": [
    {
     "data": {
      "text/plain": [
       "0.0           1288327\n",
       "1.0            684071\n",
       "2.0             57615\n",
       "3.0              5177\n",
       "30.0              247\n",
       "40.0              234\n",
       "43.0              194\n",
       "33.0              193\n",
       "29.0              191\n",
       "34.0              179\n",
       "35.0              178\n",
       "31.0              166\n",
       "32.0              156\n",
       "37.0              151\n",
       "36.0              145\n",
       "28.0              144\n",
       "41.0              139\n",
       "27.0              135\n",
       "39.0              113\n",
       "26.0              112\n",
       "38.0              110\n",
       "25.0              107\n",
       "23.0              107\n",
       "50.0               99\n",
       "22.0               95\n",
       "47.0               92\n",
       "46.0               82\n",
       "21.0               82\n",
       "19.0               77\n",
       "24.0               74\n",
       "               ...   \n",
       "90.0               19\n",
       "15.0               18\n",
       "12.0               17\n",
       "61.0               16\n",
       "72.0               15\n",
       "64.0               11\n",
       "67.0                9\n",
       "88.0                9\n",
       "120.0               7\n",
       "78.0                7\n",
       "69.0                6\n",
       "71.0                6\n",
       "82.0                6\n",
       "103.0               4\n",
       "4.0                 3\n",
       "232.0               3\n",
       "68.0                2\n",
       "112.0               2\n",
       "118.0               2\n",
       "426.0               2\n",
       "239.0               2\n",
       "20170408.0          1\n",
       "265.0               1\n",
       "424.0               1\n",
       "202.0               1\n",
       "210.0               1\n",
       "102.0               1\n",
       "198.0               1\n",
       "10.0                1\n",
       "4018644.0           1\n",
       "Name: song_type, Length: 87, dtype: int64"
      ]
     },
     "execution_count": 16,
     "metadata": {},
     "output_type": "execute_result"
    }
   ],
   "source": [
    "df_song_list.song_type.value_counts()"
   ]
  },
  {
   "cell_type": "code",
   "execution_count": 17,
   "metadata": {},
   "outputs": [],
   "source": [
    "df_song_list.to_csv('../data/play/song_info.csv')"
   ]
  },
  {
   "cell_type": "markdown",
   "metadata": {},
   "source": [
    "## Download Data"
   ]
  },
  {
   "cell_type": "code",
   "execution_count": 7,
   "metadata": {
    "collapsed": true
   },
   "outputs": [],
   "source": [
    "import pandas as pd\n",
    "\n",
    "schema = ['uid','device','song_id','song_name','singer','paid_flag']\n",
    "df = pd.read_csv('../data/1_down.log',delimiter='\\t',header=None,index_col=None,names=schema)"
   ]
  },
  {
   "cell_type": "code",
   "execution_count": 8,
   "metadata": {},
   "outputs": [
    {
     "data": {
      "text/html": [
       "<div>\n",
       "<style>\n",
       "    .dataframe thead tr:only-child th {\n",
       "        text-align: right;\n",
       "    }\n",
       "\n",
       "    .dataframe thead th {\n",
       "        text-align: left;\n",
       "    }\n",
       "\n",
       "    .dataframe tbody tr th {\n",
       "        vertical-align: top;\n",
       "    }\n",
       "</style>\n",
       "<table border=\"1\" class=\"dataframe\">\n",
       "  <thead>\n",
       "    <tr style=\"text-align: right;\">\n",
       "      <th></th>\n",
       "      <th>uid</th>\n",
       "      <th>device</th>\n",
       "      <th>song_id</th>\n",
       "      <th>song_name</th>\n",
       "      <th>singer</th>\n",
       "      <th>paid_flag</th>\n",
       "    </tr>\n",
       "  </thead>\n",
       "  <tbody>\n",
       "    <tr>\n",
       "      <th>0</th>\n",
       "      <td>167175597.0</td>\n",
       "      <td>ar</td>\n",
       "      <td>2833802.0</td>\n",
       "      <td>草原之夜</td>\n",
       "      <td>费玉清</td>\n",
       "      <td>0</td>\n",
       "    </tr>\n",
       "    <tr>\n",
       "      <th>1</th>\n",
       "      <td>168008024.0</td>\n",
       "      <td>ar</td>\n",
       "      <td>9859281.0</td>\n",
       "      <td>抬头月牙弯弯</td>\n",
       "      <td>MC半阳</td>\n",
       "      <td>0</td>\n",
       "    </tr>\n",
       "    <tr>\n",
       "      <th>2</th>\n",
       "      <td>167949371.0</td>\n",
       "      <td>ar</td>\n",
       "      <td>6807393.0</td>\n",
       "      <td>非常带劲</td>\n",
       "      <td>McTaiM</td>\n",
       "      <td>0</td>\n",
       "    </tr>\n",
       "    <tr>\n",
       "      <th>3</th>\n",
       "      <td>167654366.0</td>\n",
       "      <td>ip</td>\n",
       "      <td>399860.0</td>\n",
       "      <td>NaN</td>\n",
       "      <td>NaN</td>\n",
       "      <td>0</td>\n",
       "    </tr>\n",
       "    <tr>\n",
       "      <th>4</th>\n",
       "      <td>167969524.0</td>\n",
       "      <td>ar</td>\n",
       "      <td>6977636.0</td>\n",
       "      <td>你是伤我最深的那个人</td>\n",
       "      <td>雨霖枫</td>\n",
       "      <td>0</td>\n",
       "    </tr>\n",
       "    <tr>\n",
       "      <th>5</th>\n",
       "      <td>168014135.0</td>\n",
       "      <td>ar</td>\n",
       "      <td>6431766.0</td>\n",
       "      <td>Living</td>\n",
       "      <td>Florian Bur</td>\n",
       "      <td>0</td>\n",
       "    </tr>\n",
       "    <tr>\n",
       "      <th>6</th>\n",
       "      <td>167572709.0</td>\n",
       "      <td>ar</td>\n",
       "      <td>4221401.0</td>\n",
       "      <td>一曲红尘</td>\n",
       "      <td>高安</td>\n",
       "      <td>0</td>\n",
       "    </tr>\n",
       "    <tr>\n",
       "      <th>7</th>\n",
       "      <td>168310102.0</td>\n",
       "      <td>ip</td>\n",
       "      <td>3278304.0</td>\n",
       "      <td>NaN</td>\n",
       "      <td>NaN</td>\n",
       "      <td>0</td>\n",
       "    </tr>\n",
       "    <tr>\n",
       "      <th>8</th>\n",
       "      <td>167654366.0</td>\n",
       "      <td>ip</td>\n",
       "      <td>1043768.0</td>\n",
       "      <td>NaN</td>\n",
       "      <td>NaN</td>\n",
       "      <td>0</td>\n",
       "    </tr>\n",
       "    <tr>\n",
       "      <th>9</th>\n",
       "      <td>167569644.0</td>\n",
       "      <td>ar</td>\n",
       "      <td>4990551.0</td>\n",
       "      <td>香港之夜 - 快四 吉特巴</td>\n",
       "      <td>邓丽君</td>\n",
       "      <td>0</td>\n",
       "    </tr>\n",
       "  </tbody>\n",
       "</table>\n",
       "</div>"
      ],
      "text/plain": [
       "           uid device    song_id      song_name       singer paid_flag\n",
       "0  167175597.0     ar  2833802.0           草原之夜          费玉清         0\n",
       "1  168008024.0     ar  9859281.0         抬头月牙弯弯         MC半阳         0\n",
       "2  167949371.0     ar  6807393.0           非常带劲       McTaiM         0\n",
       "3  167654366.0     ip   399860.0            NaN          NaN         0\n",
       "4  167969524.0     ar  6977636.0     你是伤我最深的那个人          雨霖枫         0\n",
       "5  168014135.0     ar  6431766.0         Living  Florian Bur         0\n",
       "6  167572709.0     ar  4221401.0           一曲红尘           高安         0\n",
       "7  168310102.0     ip  3278304.0            NaN          NaN         0\n",
       "8  167654366.0     ip  1043768.0            NaN          NaN         0\n",
       "9  167569644.0     ar  4990551.0  香港之夜 - 快四 吉特巴          邓丽君         0"
      ]
     },
     "execution_count": 8,
     "metadata": {},
     "output_type": "execute_result"
    }
   ],
   "source": [
    "df.head(10)"
   ]
  },
  {
   "cell_type": "code",
   "execution_count": 9,
   "metadata": {},
   "outputs": [
    {
     "name": "stdout",
     "output_type": "stream",
     "text": [
      "<class 'pandas.core.frame.DataFrame'>\n",
      "RangeIndex: 117628 entries, 0 to 117627\n",
      "Data columns (total 6 columns):\n",
      "uid          117487 non-null float64\n",
      "device       117628 non-null object\n",
      "song_id      117600 non-null float64\n",
      "song_name    94646 non-null object\n",
      "singer       94481 non-null object\n",
      "paid_flag    117346 non-null object\n",
      "dtypes: float64(2), object(4)\n",
      "memory usage: 5.4+ MB\n"
     ]
    }
   ],
   "source": [
    "df.info()"
   ]
  },
  {
   "cell_type": "markdown",
   "metadata": {},
   "source": [
    "## Search Data"
   ]
  },
  {
   "cell_type": "code",
   "execution_count": 10,
   "metadata": {
    "collapsed": true
   },
   "outputs": [],
   "source": [
    "import pandas as pd\n",
    "\n",
    "schema = ['uid','device','time_stamp','search_query']\n",
    "df = pd.read_csv('../data/1_search.log',delimiter='\\t',header=None,index_col=None,names=schema)"
   ]
  },
  {
   "cell_type": "code",
   "execution_count": 11,
   "metadata": {},
   "outputs": [
    {
     "data": {
      "text/html": [
       "<div>\n",
       "<style>\n",
       "    .dataframe thead tr:only-child th {\n",
       "        text-align: right;\n",
       "    }\n",
       "\n",
       "    .dataframe thead th {\n",
       "        text-align: left;\n",
       "    }\n",
       "\n",
       "    .dataframe tbody tr th {\n",
       "        vertical-align: top;\n",
       "    }\n",
       "</style>\n",
       "<table border=\"1\" class=\"dataframe\">\n",
       "  <thead>\n",
       "    <tr style=\"text-align: right;\">\n",
       "      <th></th>\n",
       "      <th>uid</th>\n",
       "      <th>device</th>\n",
       "      <th>time_stamp</th>\n",
       "      <th>search_query</th>\n",
       "    </tr>\n",
       "  </thead>\n",
       "  <tbody>\n",
       "    <tr>\n",
       "      <th>0</th>\n",
       "      <td>167593390</td>\n",
       "      <td>ar</td>\n",
       "      <td>2017-03-31 00:00:01</td>\n",
       "      <td>%E9%87%91%E9%92%B1%E7%9A%84%E7%A4%BE%E4%BC%9A%...</td>\n",
       "    </tr>\n",
       "    <tr>\n",
       "      <th>1</th>\n",
       "      <td>168021414</td>\n",
       "      <td>ar</td>\n",
       "      <td>2017-03-31 00:00:01</td>\n",
       "      <td>%E7%9B%B8%E9%81%87%E6%98%AF%E7%BC%98</td>\n",
       "    </tr>\n",
       "    <tr>\n",
       "      <th>2</th>\n",
       "      <td>167839162</td>\n",
       "      <td>ar</td>\n",
       "      <td>2017-03-31 00:00:03</td>\n",
       "      <td>%E5%8D%83%E9%87%8C%E4%B9%8B%E5%A4%96</td>\n",
       "    </tr>\n",
       "    <tr>\n",
       "      <th>3</th>\n",
       "      <td>167839162</td>\n",
       "      <td>ar</td>\n",
       "      <td>2017-03-31 00:00:03</td>\n",
       "      <td>%E5%8D%83%E9%87%8C%E4%B9%8B%E5%A4%96</td>\n",
       "    </tr>\n",
       "    <tr>\n",
       "      <th>4</th>\n",
       "      <td>167839162</td>\n",
       "      <td>ar</td>\n",
       "      <td>2017-03-31 00:00:04</td>\n",
       "      <td>%E5%8D%83%E9%87%8C%E4%B9%8B%E5%A4%96</td>\n",
       "    </tr>\n",
       "    <tr>\n",
       "      <th>5</th>\n",
       "      <td>167839162</td>\n",
       "      <td>ar</td>\n",
       "      <td>2017-03-31 00:00:04</td>\n",
       "      <td>%E5%8D%83%E9%87%8C%E4%B9%8B%E5%A4%96</td>\n",
       "    </tr>\n",
       "    <tr>\n",
       "      <th>6</th>\n",
       "      <td>167617785</td>\n",
       "      <td>ar</td>\n",
       "      <td>2017-03-31 00:00:05</td>\n",
       "      <td>%E9%83%AD%E5%BE%B7%E7%BA%B2</td>\n",
       "    </tr>\n",
       "    <tr>\n",
       "      <th>7</th>\n",
       "      <td>168014864</td>\n",
       "      <td>ar</td>\n",
       "      <td>2017-03-31 00:00:05</td>\n",
       "      <td>mc</td>\n",
       "    </tr>\n",
       "    <tr>\n",
       "      <th>8</th>\n",
       "      <td>167730767</td>\n",
       "      <td>ar</td>\n",
       "      <td>2017-03-31 00:00:06</td>\n",
       "      <td>%E6%88%91%E6%9C%80%E7%88%B1%E7%9A%84%E4%B8%80%...</td>\n",
       "    </tr>\n",
       "    <tr>\n",
       "      <th>9</th>\n",
       "      <td>167807212</td>\n",
       "      <td>ar</td>\n",
       "      <td>2017-03-31 00:00:07</td>\n",
       "      <td>%E4%B8%A4%E4%B8%A4%E7%9B%B8%E6%9C%9B</td>\n",
       "    </tr>\n",
       "  </tbody>\n",
       "</table>\n",
       "</div>"
      ],
      "text/plain": [
       "         uid device           time_stamp  \\\n",
       "0  167593390     ar  2017-03-31 00:00:01   \n",
       "1  168021414     ar  2017-03-31 00:00:01   \n",
       "2  167839162     ar  2017-03-31 00:00:03   \n",
       "3  167839162     ar  2017-03-31 00:00:03   \n",
       "4  167839162     ar  2017-03-31 00:00:04   \n",
       "5  167839162     ar  2017-03-31 00:00:04   \n",
       "6  167617785     ar  2017-03-31 00:00:05   \n",
       "7  168014864     ar  2017-03-31 00:00:05   \n",
       "8  167730767     ar  2017-03-31 00:00:06   \n",
       "9  167807212     ar  2017-03-31 00:00:07   \n",
       "\n",
       "                                        search_query  \n",
       "0  %E9%87%91%E9%92%B1%E7%9A%84%E7%A4%BE%E4%BC%9A%...  \n",
       "1               %E7%9B%B8%E9%81%87%E6%98%AF%E7%BC%98  \n",
       "2               %E5%8D%83%E9%87%8C%E4%B9%8B%E5%A4%96  \n",
       "3               %E5%8D%83%E9%87%8C%E4%B9%8B%E5%A4%96  \n",
       "4               %E5%8D%83%E9%87%8C%E4%B9%8B%E5%A4%96  \n",
       "5               %E5%8D%83%E9%87%8C%E4%B9%8B%E5%A4%96  \n",
       "6                        %E9%83%AD%E5%BE%B7%E7%BA%B2  \n",
       "7                                                 mc  \n",
       "8  %E6%88%91%E6%9C%80%E7%88%B1%E7%9A%84%E4%B8%80%...  \n",
       "9               %E4%B8%A4%E4%B8%A4%E7%9B%B8%E6%9C%9B  "
      ]
     },
     "execution_count": 11,
     "metadata": {},
     "output_type": "execute_result"
    }
   ],
   "source": [
    "df.head(10)"
   ]
  },
  {
   "cell_type": "code",
   "execution_count": 12,
   "metadata": {},
   "outputs": [
    {
     "name": "stdout",
     "output_type": "stream",
     "text": [
      "<class 'pandas.core.frame.DataFrame'>\n",
      "RangeIndex: 116142 entries, 0 to 116141\n",
      "Data columns (total 4 columns):\n",
      "uid             116142 non-null int64\n",
      "device          116142 non-null object\n",
      "time_stamp      116142 non-null object\n",
      "search_query    116142 non-null object\n",
      "dtypes: int64(1), object(3)\n",
      "memory usage: 3.5+ MB\n"
     ]
    }
   ],
   "source": [
    "df.info()"
   ]
  },
  {
   "cell_type": "code",
   "execution_count": null,
   "metadata": {
    "collapsed": true
   },
   "outputs": [],
   "source": []
  }
 ],
 "metadata": {
  "kernelspec": {
   "display_name": "Python 2",
   "language": "python",
   "name": "python2"
  },
  "language_info": {
   "codemirror_mode": {
    "name": "ipython",
    "version": 2
   },
   "file_extension": ".py",
   "mimetype": "text/x-python",
   "name": "python",
   "nbconvert_exporter": "python",
   "pygments_lexer": "ipython2",
   "version": "2.7.14"
  }
 },
 "nbformat": 4,
 "nbformat_minor": 2
}
