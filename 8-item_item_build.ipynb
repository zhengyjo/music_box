{
 "cells": [
  {
   "cell_type": "code",
   "execution_count": 1,
   "metadata": {},
   "outputs": [],
   "source": [
    "import pandas as pd"
   ]
  },
  {
   "cell_type": "code",
   "execution_count": 3,
   "metadata": {},
   "outputs": [],
   "source": [
    "df_rate = pd.read_csv('../data/play_rate.csv')"
   ]
  },
  {
   "cell_type": "code",
   "execution_count": 183,
   "metadata": {},
   "outputs": [
    {
     "name": "stderr",
     "output_type": "stream",
     "text": [
      "/home/zhengyzhou040820/.local/lib/python2.7/site-packages/IPython/core/interactiveshell.py:2714: DtypeWarning: Columns (2) have mixed types. Specify dtype option on import or set low_memory=False.\n",
      "  interactivity=interactivity, compiler=compiler, result=result)\n"
     ]
    }
   ],
   "source": [
    "df = pd.read_csv('../data/play_ds.csv')"
   ]
  },
  {
   "cell_type": "code",
   "execution_count": 34,
   "metadata": {},
   "outputs": [
    {
     "data": {
      "text/html": [
       "<div>\n",
       "<style scoped>\n",
       "    .dataframe tbody tr th:only-of-type {\n",
       "        vertical-align: middle;\n",
       "    }\n",
       "\n",
       "    .dataframe tbody tr th {\n",
       "        vertical-align: top;\n",
       "    }\n",
       "\n",
       "    .dataframe thead th {\n",
       "        text-align: right;\n",
       "    }\n",
       "</style>\n",
       "<table border=\"1\" class=\"dataframe\">\n",
       "  <thead>\n",
       "    <tr style=\"text-align: right;\">\n",
       "      <th></th>\n",
       "      <th>uid</th>\n",
       "      <th>device</th>\n",
       "      <th>song_id</th>\n",
       "      <th>date</th>\n",
       "      <th>play_time</th>\n",
       "      <th>song_length</th>\n",
       "    </tr>\n",
       "  </thead>\n",
       "  <tbody>\n",
       "    <tr>\n",
       "      <th>0</th>\n",
       "      <td>168550892</td>\n",
       "      <td>ar</td>\n",
       "      <td>23491655</td>\n",
       "      <td>2017-03-30</td>\n",
       "      <td>254</td>\n",
       "      <td>254.0</td>\n",
       "    </tr>\n",
       "    <tr>\n",
       "      <th>1</th>\n",
       "      <td>168549788</td>\n",
       "      <td>ip</td>\n",
       "      <td>295469</td>\n",
       "      <td>2017-03-30</td>\n",
       "      <td>16</td>\n",
       "      <td>242.0</td>\n",
       "    </tr>\n",
       "    <tr>\n",
       "      <th>2</th>\n",
       "      <td>168532580</td>\n",
       "      <td>ar</td>\n",
       "      <td>21762903</td>\n",
       "      <td>2017-03-30</td>\n",
       "      <td>67</td>\n",
       "      <td>137.0</td>\n",
       "    </tr>\n",
       "    <tr>\n",
       "      <th>3</th>\n",
       "      <td>168543026</td>\n",
       "      <td>ar</td>\n",
       "      <td>6623026</td>\n",
       "      <td>2017-03-30</td>\n",
       "      <td>0</td>\n",
       "      <td>0.0</td>\n",
       "    </tr>\n",
       "    <tr>\n",
       "      <th>4</th>\n",
       "      <td>168532580</td>\n",
       "      <td>ar</td>\n",
       "      <td>21762903</td>\n",
       "      <td>2017-03-30</td>\n",
       "      <td>67</td>\n",
       "      <td>137.0</td>\n",
       "    </tr>\n",
       "  </tbody>\n",
       "</table>\n",
       "</div>"
      ],
      "text/plain": [
       "         uid device   song_id        date play_time  song_length\n",
       "0  168550892     ar  23491655  2017-03-30       254        254.0\n",
       "1  168549788     ip    295469  2017-03-30        16        242.0\n",
       "2  168532580     ar  21762903  2017-03-30        67        137.0\n",
       "3  168543026     ar   6623026  2017-03-30         0          0.0\n",
       "4  168532580     ar  21762903  2017-03-30        67        137.0"
      ]
     },
     "execution_count": 34,
     "metadata": {},
     "output_type": "execute_result"
    }
   ],
   "source": [
    "df.head(5)"
   ]
  },
  {
   "cell_type": "code",
   "execution_count": 38,
   "metadata": {},
   "outputs": [],
   "source": [
    "def cleanPlayTime(row):\n",
    "    if row['play_time'] == 0:\n",
    "        return 0\n",
    "    if '>' in row['play_time'] :\n",
    "        # print s.split('>')\n",
    "        return row['play_time'].split('>')[0]\n",
    "    else:\n",
    "        return row['play_time']"
   ]
  },
  {
   "cell_type": "code",
   "execution_count": 40,
   "metadata": {},
   "outputs": [],
   "source": [
    "df['play_time'].fillna('0', inplace=True)"
   ]
  },
  {
   "cell_type": "code",
   "execution_count": 41,
   "metadata": {},
   "outputs": [],
   "source": [
    "df['play_time_2'] = df.apply(cleanPlayTime,axis = 1)"
   ]
  },
  {
   "cell_type": "code",
   "execution_count": 50,
   "metadata": {},
   "outputs": [],
   "source": [
    "def calculateTime(row):\n",
    "    if int(row['song_length']) == 0:\n",
    "        #print(\"processed\")\n",
    "        return 0\n",
    "    else:\n",
    "        #print(\"processed\")\n",
    "        return float(row['play_time_2']) / float(row['song_length'])"
   ]
  },
  {
   "cell_type": "code",
   "execution_count": 51,
   "metadata": {
    "scrolled": true
   },
   "outputs": [],
   "source": [
    "df[['play_time_2']] = df[['play_time_2']].astype(float)\n",
    "df['play_time_2'].fillna('0', inplace=True)\n",
    "df['song_length'].fillna('0', inplace=True)"
   ]
  },
  {
   "cell_type": "code",
   "execution_count": 52,
   "metadata": {},
   "outputs": [
    {
     "data": {
      "text/html": [
       "<div>\n",
       "<style scoped>\n",
       "    .dataframe tbody tr th:only-of-type {\n",
       "        vertical-align: middle;\n",
       "    }\n",
       "\n",
       "    .dataframe tbody tr th {\n",
       "        vertical-align: top;\n",
       "    }\n",
       "\n",
       "    .dataframe thead th {\n",
       "        text-align: right;\n",
       "    }\n",
       "</style>\n",
       "<table border=\"1\" class=\"dataframe\">\n",
       "  <thead>\n",
       "    <tr style=\"text-align: right;\">\n",
       "      <th></th>\n",
       "      <th>uid</th>\n",
       "      <th>device</th>\n",
       "      <th>song_id</th>\n",
       "      <th>date</th>\n",
       "      <th>play_time</th>\n",
       "      <th>song_length</th>\n",
       "      <th>play_time_2</th>\n",
       "    </tr>\n",
       "  </thead>\n",
       "  <tbody>\n",
       "    <tr>\n",
       "      <th>748</th>\n",
       "      <td>168547485</td>\n",
       "      <td>ar</td>\n",
       "      <td>298250</td>\n",
       "      <td>2017-03-30</td>\n",
       "      <td>11&gt;\u000f}(223.214.39.194)TM</td>\n",
       "      <td>193</td>\n",
       "      <td>11.0</td>\n",
       "    </tr>\n",
       "  </tbody>\n",
       "</table>\n",
       "</div>"
      ],
      "text/plain": [
       "           uid device song_id        date                play_time  \\\n",
       "748  168547485     ar  298250  2017-03-30  11>\u000f}(223.214.39.194)TM   \n",
       "\n",
       "    song_length  play_time_2  \n",
       "748         193         11.0  "
      ]
     },
     "execution_count": 52,
     "metadata": {},
     "output_type": "execute_result"
    }
   ],
   "source": [
    "df.iloc[[748]]"
   ]
  },
  {
   "cell_type": "code",
   "execution_count": 53,
   "metadata": {},
   "outputs": [],
   "source": [
    "df['play_ratio'] = df.apply(calculateTime,axis = 1)"
   ]
  },
  {
   "cell_type": "code",
   "execution_count": 54,
   "metadata": {},
   "outputs": [
    {
     "data": {
      "text/html": [
       "<div>\n",
       "<style scoped>\n",
       "    .dataframe tbody tr th:only-of-type {\n",
       "        vertical-align: middle;\n",
       "    }\n",
       "\n",
       "    .dataframe tbody tr th {\n",
       "        vertical-align: top;\n",
       "    }\n",
       "\n",
       "    .dataframe thead th {\n",
       "        text-align: right;\n",
       "    }\n",
       "</style>\n",
       "<table border=\"1\" class=\"dataframe\">\n",
       "  <thead>\n",
       "    <tr style=\"text-align: right;\">\n",
       "      <th></th>\n",
       "      <th>uid</th>\n",
       "      <th>device</th>\n",
       "      <th>song_id</th>\n",
       "      <th>date</th>\n",
       "      <th>play_time</th>\n",
       "      <th>song_length</th>\n",
       "      <th>play_time_2</th>\n",
       "      <th>play_ratio</th>\n",
       "    </tr>\n",
       "  </thead>\n",
       "  <tbody>\n",
       "    <tr>\n",
       "      <th>0</th>\n",
       "      <td>168550892</td>\n",
       "      <td>ar</td>\n",
       "      <td>23491655</td>\n",
       "      <td>2017-03-30</td>\n",
       "      <td>254</td>\n",
       "      <td>254</td>\n",
       "      <td>254.0</td>\n",
       "      <td>1.000000</td>\n",
       "    </tr>\n",
       "    <tr>\n",
       "      <th>1</th>\n",
       "      <td>168549788</td>\n",
       "      <td>ip</td>\n",
       "      <td>295469</td>\n",
       "      <td>2017-03-30</td>\n",
       "      <td>16</td>\n",
       "      <td>242</td>\n",
       "      <td>16.0</td>\n",
       "      <td>0.066116</td>\n",
       "    </tr>\n",
       "    <tr>\n",
       "      <th>2</th>\n",
       "      <td>168532580</td>\n",
       "      <td>ar</td>\n",
       "      <td>21762903</td>\n",
       "      <td>2017-03-30</td>\n",
       "      <td>67</td>\n",
       "      <td>137</td>\n",
       "      <td>67.0</td>\n",
       "      <td>0.489051</td>\n",
       "    </tr>\n",
       "    <tr>\n",
       "      <th>3</th>\n",
       "      <td>168543026</td>\n",
       "      <td>ar</td>\n",
       "      <td>6623026</td>\n",
       "      <td>2017-03-30</td>\n",
       "      <td>0</td>\n",
       "      <td>0</td>\n",
       "      <td>0.0</td>\n",
       "      <td>0.000000</td>\n",
       "    </tr>\n",
       "    <tr>\n",
       "      <th>4</th>\n",
       "      <td>168532580</td>\n",
       "      <td>ar</td>\n",
       "      <td>21762903</td>\n",
       "      <td>2017-03-30</td>\n",
       "      <td>67</td>\n",
       "      <td>137</td>\n",
       "      <td>67.0</td>\n",
       "      <td>0.489051</td>\n",
       "    </tr>\n",
       "  </tbody>\n",
       "</table>\n",
       "</div>"
      ],
      "text/plain": [
       "         uid device   song_id        date play_time song_length  play_time_2  \\\n",
       "0  168550892     ar  23491655  2017-03-30       254         254        254.0   \n",
       "1  168549788     ip    295469  2017-03-30        16         242         16.0   \n",
       "2  168532580     ar  21762903  2017-03-30        67         137         67.0   \n",
       "3  168543026     ar   6623026  2017-03-30         0           0          0.0   \n",
       "4  168532580     ar  21762903  2017-03-30        67         137         67.0   \n",
       "\n",
       "   play_ratio  \n",
       "0    1.000000  \n",
       "1    0.066116  \n",
       "2    0.489051  \n",
       "3    0.000000  \n",
       "4    0.489051  "
      ]
     },
     "execution_count": 54,
     "metadata": {},
     "output_type": "execute_result"
    }
   ],
   "source": [
    "df.head(5)"
   ]
  },
  {
   "cell_type": "code",
   "execution_count": 55,
   "metadata": {},
   "outputs": [],
   "source": [
    "df.to_csv('../data/play_ds_extention.csv')"
   ]
  },
  {
   "cell_type": "code",
   "execution_count": 56,
   "metadata": {},
   "outputs": [],
   "source": [
    "df_rate = df.groupby(['uid','song_id'])\n",
    "df_rate = df.drop(['device','date','play_time','song_length','play_time_2'], axis=1)\n",
    "df_rate = df_rate.groupby(['uid', 'song_id']).agg({'play_ratio':'sum'})\n",
    "df_rate = df_rate.reset_index()\n",
    "df_rate.to_csv('../data/play_rate.csv')"
   ]
  },
  {
   "cell_type": "code",
   "execution_count": 57,
   "metadata": {
    "scrolled": true
   },
   "outputs": [
    {
     "data": {
      "text/html": [
       "<div>\n",
       "<style scoped>\n",
       "    .dataframe tbody tr th:only-of-type {\n",
       "        vertical-align: middle;\n",
       "    }\n",
       "\n",
       "    .dataframe tbody tr th {\n",
       "        vertical-align: top;\n",
       "    }\n",
       "\n",
       "    .dataframe thead th {\n",
       "        text-align: right;\n",
       "    }\n",
       "</style>\n",
       "<table border=\"1\" class=\"dataframe\">\n",
       "  <thead>\n",
       "    <tr style=\"text-align: right;\">\n",
       "      <th></th>\n",
       "      <th>uid</th>\n",
       "      <th>song_id</th>\n",
       "      <th>play_ratio</th>\n",
       "    </tr>\n",
       "  </thead>\n",
       "  <tbody>\n",
       "    <tr>\n",
       "      <th>0</th>\n",
       "      <td>12333</td>\n",
       "      <td>703693</td>\n",
       "      <td>0.821429</td>\n",
       "    </tr>\n",
       "    <tr>\n",
       "      <th>1</th>\n",
       "      <td>12333</td>\n",
       "      <td>708428</td>\n",
       "      <td>9.682796</td>\n",
       "    </tr>\n",
       "    <tr>\n",
       "      <th>2</th>\n",
       "      <td>12333</td>\n",
       "      <td>875447</td>\n",
       "      <td>8.418803</td>\n",
       "    </tr>\n",
       "    <tr>\n",
       "      <th>3</th>\n",
       "      <td>12333</td>\n",
       "      <td>5.11457e+06</td>\n",
       "      <td>7.802120</td>\n",
       "    </tr>\n",
       "    <tr>\n",
       "      <th>4</th>\n",
       "      <td>12333</td>\n",
       "      <td>5.23738e+06</td>\n",
       "      <td>8.000000</td>\n",
       "    </tr>\n",
       "  </tbody>\n",
       "</table>\n",
       "</div>"
      ],
      "text/plain": [
       "     uid      song_id  play_ratio\n",
       "0  12333       703693    0.821429\n",
       "1  12333       708428    9.682796\n",
       "2  12333       875447    8.418803\n",
       "3  12333  5.11457e+06    7.802120\n",
       "4  12333  5.23738e+06    8.000000"
      ]
     },
     "execution_count": 57,
     "metadata": {},
     "output_type": "execute_result"
    }
   ],
   "source": [
    "df_rate.head(5)"
   ]
  },
  {
   "cell_type": "code",
   "execution_count": 77,
   "metadata": {},
   "outputs": [
    {
     "data": {
      "text/plain": [
       "uid            629707\n",
       "song_id        629707\n",
       "play_ratio     629707\n",
       "user_id_map    629707\n",
       "song_id_map    629707\n",
       "dtype: int64"
      ]
     },
     "execution_count": 77,
     "metadata": {},
     "output_type": "execute_result"
    }
   ],
   "source": [
    "df_rate[df_rate['play_ratio'] >= 1].count()"
   ]
  },
  {
   "cell_type": "code",
   "execution_count": 78,
   "metadata": {},
   "outputs": [
    {
     "data": {
      "text/plain": [
       "uid            1105842\n",
       "song_id        1105842\n",
       "play_ratio     1105842\n",
       "user_id_map    1105842\n",
       "song_id_map    1105842\n",
       "dtype: int64"
      ]
     },
     "execution_count": 78,
     "metadata": {},
     "output_type": "execute_result"
    }
   ],
   "source": [
    "df_rate[df_rate['play_ratio'] < 1].count()"
   ]
  },
  {
   "cell_type": "code",
   "execution_count": null,
   "metadata": {},
   "outputs": [],
   "source": [
    "# Due to we have too much data, we have to resample based on play_ratio\n",
    "from sklearn.utils import resample\n",
    "# Separate majority and minority classes\n",
    "df_majority = df_rate[df_rate.play_ratio < 1]\n",
    "df_minority = df_rate[df_rate.play_ratio >= 1]\n",
    " \n",
    "# Downsample majority class\n",
    "df_majority_downsampled = resample(df_majority, \n",
    "                                 replace=False,    # sample without replacement\n",
    "                                 n_samples= ,     # to match minority class\n",
    "                                 random_state=123) # reproducible results\n",
    " \n",
    "# Combine minority class with downsampled majority class\n",
    "df_downsampled = pd.concat([df_majority_downsampled, df_minority])\n",
    " \n",
    "# Display new class counts\n",
    "df_downsampled.balance.value_counts()\n",
    "# 1    49\n",
    "# 0    49\n",
    "# Name: balance, dtype: int64"
   ]
  },
  {
   "cell_type": "code",
   "execution_count": 58,
   "metadata": {},
   "outputs": [],
   "source": [
    "df_rate = df_rate.dropna()"
   ]
  },
  {
   "cell_type": "code",
   "execution_count": 59,
   "metadata": {},
   "outputs": [],
   "source": [
    "df_rate.to_csv('../data/play_rate.csv')"
   ]
  },
  {
   "cell_type": "code",
   "execution_count": 138,
   "metadata": {},
   "outputs": [],
   "source": [
    "df_rate = pd.read_csv('../data/play_rate.csv')"
   ]
  },
  {
   "cell_type": "code",
   "execution_count": 139,
   "metadata": {},
   "outputs": [
    {
     "data": {
      "text/html": [
       "<div>\n",
       "<style scoped>\n",
       "    .dataframe tbody tr th:only-of-type {\n",
       "        vertical-align: middle;\n",
       "    }\n",
       "\n",
       "    .dataframe tbody tr th {\n",
       "        vertical-align: top;\n",
       "    }\n",
       "\n",
       "    .dataframe thead th {\n",
       "        text-align: right;\n",
       "    }\n",
       "</style>\n",
       "<table border=\"1\" class=\"dataframe\">\n",
       "  <thead>\n",
       "    <tr style=\"text-align: right;\">\n",
       "      <th></th>\n",
       "      <th>Unnamed: 0</th>\n",
       "      <th>uid</th>\n",
       "      <th>song_id</th>\n",
       "      <th>play_ratio</th>\n",
       "    </tr>\n",
       "  </thead>\n",
       "  <tbody>\n",
       "    <tr>\n",
       "      <th>0</th>\n",
       "      <td>0</td>\n",
       "      <td>12333</td>\n",
       "      <td>703693.0</td>\n",
       "      <td>0.821429</td>\n",
       "    </tr>\n",
       "    <tr>\n",
       "      <th>1</th>\n",
       "      <td>1</td>\n",
       "      <td>12333</td>\n",
       "      <td>708428.0</td>\n",
       "      <td>9.682796</td>\n",
       "    </tr>\n",
       "    <tr>\n",
       "      <th>2</th>\n",
       "      <td>2</td>\n",
       "      <td>12333</td>\n",
       "      <td>875447.0</td>\n",
       "      <td>8.418803</td>\n",
       "    </tr>\n",
       "    <tr>\n",
       "      <th>3</th>\n",
       "      <td>3</td>\n",
       "      <td>12333</td>\n",
       "      <td>5114569.0</td>\n",
       "      <td>7.802120</td>\n",
       "    </tr>\n",
       "    <tr>\n",
       "      <th>4</th>\n",
       "      <td>4</td>\n",
       "      <td>12333</td>\n",
       "      <td>5237384.0</td>\n",
       "      <td>8.000000</td>\n",
       "    </tr>\n",
       "  </tbody>\n",
       "</table>\n",
       "</div>"
      ],
      "text/plain": [
       "   Unnamed: 0    uid    song_id  play_ratio\n",
       "0           0  12333   703693.0    0.821429\n",
       "1           1  12333   708428.0    9.682796\n",
       "2           2  12333   875447.0    8.418803\n",
       "3           3  12333  5114569.0    7.802120\n",
       "4           4  12333  5237384.0    8.000000"
      ]
     },
     "execution_count": 139,
     "metadata": {},
     "output_type": "execute_result"
    }
   ],
   "source": [
    "df_rate.head(5)"
   ]
  },
  {
   "cell_type": "code",
   "execution_count": 140,
   "metadata": {},
   "outputs": [],
   "source": [
    "df_rate = df_rate[df_rate['song_id'] > 0]"
   ]
  },
  {
   "cell_type": "code",
   "execution_count": 141,
   "metadata": {},
   "outputs": [
    {
     "data": {
      "text/plain": [
       "6888228"
      ]
     },
     "execution_count": 141,
     "metadata": {},
     "output_type": "execute_result"
    }
   ],
   "source": [
    "df_rate.size"
   ]
  },
  {
   "cell_type": "code",
   "execution_count": 143,
   "metadata": {},
   "outputs": [],
   "source": [
    "df_rate['freq'] = df_rate.groupby('song_id')['song_id'].transform('count')"
   ]
  },
  {
   "cell_type": "code",
   "execution_count": 153,
   "metadata": {},
   "outputs": [],
   "source": [
    "df_rate = df_rate[df_rate['freq'] >= 10]"
   ]
  },
  {
   "cell_type": "code",
   "execution_count": 154,
   "metadata": {},
   "outputs": [
    {
     "data": {
      "text/plain": [
       "6259000"
      ]
     },
     "execution_count": 154,
     "metadata": {},
     "output_type": "execute_result"
    }
   ],
   "source": [
    "df_rate.size"
   ]
  },
  {
   "cell_type": "code",
   "execution_count": 155,
   "metadata": {},
   "outputs": [
    {
     "data": {
      "text/plain": [
       "20814"
      ]
     },
     "execution_count": 155,
     "metadata": {},
     "output_type": "execute_result"
    }
   ],
   "source": [
    "len(df_rate.song_id.unique())"
   ]
  },
  {
   "cell_type": "code",
   "execution_count": 156,
   "metadata": {},
   "outputs": [],
   "source": [
    "from scipy import sparse\n",
    "from sklearn.metrics.pairwise import cosine_similarity"
   ]
  },
  {
   "cell_type": "code",
   "execution_count": 157,
   "metadata": {},
   "outputs": [],
   "source": [
    "# convert uid to a smaller list\n",
    "user_id_lst = df_rate['uid'].unique() \n",
    "user_id_dict = {k: v for v, k in enumerate(user_id_lst)}\n",
    "\n",
    "# convert song id to a smaller list\n",
    "song_id_lst = df_rate['song_id'].unique() \n",
    "song_id_dict = {k: v for v, k in enumerate(song_id_lst)}"
   ]
  },
  {
   "cell_type": "code",
   "execution_count": 158,
   "metadata": {},
   "outputs": [],
   "source": [
    "df_rate['user_id_map'] = df_rate.apply(lambda x: user_id_dict[x['uid']],axis = 1)\n",
    "df_rate['song_id_map'] = df_rate.apply(lambda x: song_id_dict[x['song_id']],axis = 1) "
   ]
  },
  {
   "cell_type": "code",
   "execution_count": 33,
   "metadata": {},
   "outputs": [
    {
     "data": {
      "text/plain": [
       "<51154x20815 sparse matrix of type '<type 'numpy.float64'>'\n",
       "\twith 0 stored elements in LInked List format>"
      ]
     },
     "execution_count": 33,
     "metadata": {},
     "output_type": "execute_result"
    }
   ],
   "source": [
    "highest_user_id = df_rate.user_id_map.max() + 1\n",
    "highest_song_id = df_rate.song_id_map.max() + 1\n",
    "ratings_mat = sparse.lil_matrix((highest_user_id, highest_song_id)) \n",
    "ratings_mat"
   ]
  },
  {
   "cell_type": "code",
   "execution_count": 196,
   "metadata": {},
   "outputs": [],
   "source": [
    "from math import fabs\n",
    "for _, row in df_rate.iterrows():\n",
    "# Due to some data error, use absolute to correct negative play time\n",
    "# subtract 1 from id's due to match 0 indexing \n",
    "    ratings_mat[row.user_id_map-1, row.song_id_map-1] = fabs(row.play_ratio)"
   ]
  },
  {
   "cell_type": "code",
   "execution_count": 197,
   "metadata": {},
   "outputs": [],
   "source": [
    "# # item_item recommendation\n",
    "# utility_mat = ratings_mat\n",
    "# Item-Item Similarity Matrix\n",
    "item_sim_mat = cosine_similarity(ratings_mat.T)"
   ]
  },
  {
   "cell_type": "code",
   "execution_count": 198,
   "metadata": {},
   "outputs": [],
   "source": [
    "import numpy as np\n",
    "least_to_most_sim_indexes = np.argsort(item_sim_mat, axis=1)\n",
    "# Neighborhoods\n",
    "neighborhood_size = 75\n",
    "neighborhoods = least_to_most_sim_indexes[:, -neighborhood_size:]"
   ]
  },
  {
   "cell_type": "code",
   "execution_count": 199,
   "metadata": {},
   "outputs": [
    {
     "data": {
      "text/plain": [
       "(20815, 75)"
      ]
     },
     "execution_count": 199,
     "metadata": {},
     "output_type": "execute_result"
    }
   ],
   "source": [
    "neighborhoods.shape"
   ]
  },
  {
   "cell_type": "code",
   "execution_count": 200,
   "metadata": {},
   "outputs": [
    {
     "name": "stderr",
     "output_type": "stream",
     "text": [
      "/home/zhengyzhou040820/.local/lib/python2.7/site-packages/ipykernel_launcher.py:16: RuntimeWarning: invalid value encountered in divide\n",
      "  app.launch_new_instance()\n"
     ]
    },
    {
     "name": "stdout",
     "output_type": "stream",
     "text": [
      "[0. 0. 0. ... 0. 0. 0.]\n",
      "Execution time: 4.699014 seconds\n"
     ]
    }
   ],
   "source": [
    "from time import time\n",
    "user_id = 12333\n",
    "\n",
    "n_users = ratings_mat.shape[0] \n",
    "n_items = ratings_mat.shape[1]\n",
    "\n",
    "start_time = time()\n",
    "items_rated_by_this_user = ratings_mat[user_id].nonzero()[1] \n",
    "# Just initializing so we have somewhere to put rating preds \n",
    "out = np.zeros(n_items)\n",
    "for item_to_rate in range(n_items):\n",
    "    relevant_items = np.intersect1d(neighborhoods[item_to_rate], \n",
    "                                    items_rated_by_this_user,\n",
    "                                    assume_unique=True) \n",
    "    # assume_unique speeds up intersection \n",
    "    out[item_to_rate] = ratings_mat[user_id, relevant_items] * item_sim_mat[item_to_rate, relevant_items] / item_sim_mat[item_to_rate, relevant_items].sum()\n",
    "\n",
    "pred_ratings = np.nan_to_num(out)\n",
    "print(pred_ratings)\n",
    "print(\"Execution time: %f seconds\" % (time()-start_time))"
   ]
  },
  {
   "cell_type": "code",
   "execution_count": 201,
   "metadata": {},
   "outputs": [
    {
     "data": {
      "text/plain": [
       "[822, 16918, 17354, 19109, 1869, 10823, 1240, 11491, 996, 17654]"
      ]
     },
     "execution_count": 201,
     "metadata": {},
     "output_type": "execute_result"
    }
   ],
   "source": [
    "# Get final recommendation # Recommend n movies \n",
    "n = 10\n",
    "\n",
    "# Get item indexes sorted by predicted rating \n",
    "item_index_sorted_by_pred_rating = list(np.argsort(pred_ratings))[::-1]\n",
    "\n",
    "# Find items that have been rated by user \n",
    "items_rated_by_this_user = ratings_mat[user_id].nonzero()[1]\n",
    "\n",
    "# We want to exclude the items that have been rated by user \n",
    "unrated_items_by_pred_rating = [item for item in item_index_sorted_by_pred_rating if item not in items_rated_by_this_user]\n",
    "\n",
    "unrated_items_by_pred_rating[:n]"
   ]
  },
  {
   "cell_type": "code",
   "execution_count": 202,
   "metadata": {},
   "outputs": [],
   "source": [
    "# Get song information\n",
    "df_song_info = pd.read_csv('../data/play/song_info.csv')"
   ]
  },
  {
   "cell_type": "code",
   "execution_count": 203,
   "metadata": {},
   "outputs": [
    {
     "data": {
      "text/html": [
       "<div>\n",
       "<style scoped>\n",
       "    .dataframe tbody tr th:only-of-type {\n",
       "        vertical-align: middle;\n",
       "    }\n",
       "\n",
       "    .dataframe tbody tr th {\n",
       "        vertical-align: top;\n",
       "    }\n",
       "\n",
       "    .dataframe thead th {\n",
       "        text-align: right;\n",
       "    }\n",
       "</style>\n",
       "<table border=\"1\" class=\"dataframe\">\n",
       "  <thead>\n",
       "    <tr style=\"text-align: right;\">\n",
       "      <th></th>\n",
       "      <th>Unnamed: 0</th>\n",
       "      <th>song_id</th>\n",
       "      <th>song_type</th>\n",
       "      <th>song_name</th>\n",
       "      <th>singer</th>\n",
       "    </tr>\n",
       "  </thead>\n",
       "  <tbody>\n",
       "    <tr>\n",
       "      <th>0</th>\n",
       "      <td>0</td>\n",
       "      <td>2.34917e+07</td>\n",
       "      <td>0.0</td>\n",
       "      <td>裂心</td>\n",
       "      <td>林志炫</td>\n",
       "    </tr>\n",
       "    <tr>\n",
       "      <th>1</th>\n",
       "      <td>1</td>\n",
       "      <td>298250</td>\n",
       "      <td>0.0</td>\n",
       "      <td>See You Again</td>\n",
       "      <td>Miley Cyrus</td>\n",
       "    </tr>\n",
       "    <tr>\n",
       "      <th>2</th>\n",
       "      <td>2</td>\n",
       "      <td>1.18814e+07</td>\n",
       "      <td>0.0</td>\n",
       "      <td>一梦浮生</td>\n",
       "      <td>颜淡妖妖</td>\n",
       "    </tr>\n",
       "    <tr>\n",
       "      <th>3</th>\n",
       "      <td>3</td>\n",
       "      <td>295469</td>\n",
       "      <td>0.0</td>\n",
       "      <td>凡人歌</td>\n",
       "      <td>高胜美</td>\n",
       "    </tr>\n",
       "    <tr>\n",
       "      <th>4</th>\n",
       "      <td>4</td>\n",
       "      <td>2.13934e+07</td>\n",
       "      <td>0.0</td>\n",
       "      <td>重生（Intro）</td>\n",
       "      <td>幼稚园杀手</td>\n",
       "    </tr>\n",
       "  </tbody>\n",
       "</table>\n",
       "</div>"
      ],
      "text/plain": [
       "   Unnamed: 0      song_id  song_type      song_name       singer\n",
       "0           0  2.34917e+07        0.0             裂心          林志炫\n",
       "1           1       298250        0.0  See You Again  Miley Cyrus\n",
       "2           2  1.18814e+07        0.0           一梦浮生         颜淡妖妖\n",
       "3           3       295469        0.0            凡人歌          高胜美\n",
       "4           4  2.13934e+07        0.0      重生（Intro）        幼稚园杀手"
      ]
     },
     "execution_count": 203,
     "metadata": {},
     "output_type": "execute_result"
    }
   ],
   "source": [
    "df_song_info.head(5)"
   ]
  },
  {
   "cell_type": "code",
   "execution_count": 204,
   "metadata": {},
   "outputs": [],
   "source": [
    "df_song_info = df_song_info.drop(['Unnamed: 0'],axis=1)"
   ]
  },
  {
   "cell_type": "code",
   "execution_count": 205,
   "metadata": {},
   "outputs": [
    {
     "data": {
      "text/plain": [
       "822"
      ]
     },
     "execution_count": 205,
     "metadata": {},
     "output_type": "execute_result"
    }
   ],
   "source": [
    "unrated_items_by_pred_rating[0]"
   ]
  },
  {
   "cell_type": "code",
   "execution_count": 206,
   "metadata": {},
   "outputs": [
    {
     "data": {
      "text/plain": [
       "708428.0"
      ]
     },
     "execution_count": 206,
     "metadata": {},
     "output_type": "execute_result"
    }
   ],
   "source": [
    "df_rate[df_rate['song_id_map'] == 1]['song_id'].unique()[0]"
   ]
  },
  {
   "cell_type": "code",
   "execution_count": 207,
   "metadata": {},
   "outputs": [
    {
     "data": {
      "text/html": [
       "<div>\n",
       "<style scoped>\n",
       "    .dataframe tbody tr th:only-of-type {\n",
       "        vertical-align: middle;\n",
       "    }\n",
       "\n",
       "    .dataframe tbody tr th {\n",
       "        vertical-align: top;\n",
       "    }\n",
       "\n",
       "    .dataframe thead th {\n",
       "        text-align: right;\n",
       "    }\n",
       "</style>\n",
       "<table border=\"1\" class=\"dataframe\">\n",
       "  <thead>\n",
       "    <tr style=\"text-align: right;\">\n",
       "      <th></th>\n",
       "      <th>Unnamed: 0</th>\n",
       "      <th>uid</th>\n",
       "      <th>song_id</th>\n",
       "      <th>play_ratio</th>\n",
       "      <th>freq</th>\n",
       "      <th>user_id_map</th>\n",
       "      <th>song_id_map</th>\n",
       "    </tr>\n",
       "  </thead>\n",
       "  <tbody>\n",
       "    <tr>\n",
       "      <th>0</th>\n",
       "      <td>0</td>\n",
       "      <td>12333</td>\n",
       "      <td>703693.0</td>\n",
       "      <td>0.821429</td>\n",
       "      <td>12</td>\n",
       "      <td>0</td>\n",
       "      <td>0</td>\n",
       "    </tr>\n",
       "    <tr>\n",
       "      <th>1</th>\n",
       "      <td>1</td>\n",
       "      <td>12333</td>\n",
       "      <td>708428.0</td>\n",
       "      <td>9.682796</td>\n",
       "      <td>13</td>\n",
       "      <td>0</td>\n",
       "      <td>1</td>\n",
       "    </tr>\n",
       "    <tr>\n",
       "      <th>2</th>\n",
       "      <td>2</td>\n",
       "      <td>12333</td>\n",
       "      <td>875447.0</td>\n",
       "      <td>8.418803</td>\n",
       "      <td>11</td>\n",
       "      <td>0</td>\n",
       "      <td>2</td>\n",
       "    </tr>\n",
       "    <tr>\n",
       "      <th>3</th>\n",
       "      <td>3</td>\n",
       "      <td>12333</td>\n",
       "      <td>5114569.0</td>\n",
       "      <td>7.802120</td>\n",
       "      <td>4092</td>\n",
       "      <td>0</td>\n",
       "      <td>3</td>\n",
       "    </tr>\n",
       "    <tr>\n",
       "      <th>4</th>\n",
       "      <td>4</td>\n",
       "      <td>12333</td>\n",
       "      <td>5237384.0</td>\n",
       "      <td>8.000000</td>\n",
       "      <td>6079</td>\n",
       "      <td>0</td>\n",
       "      <td>4</td>\n",
       "    </tr>\n",
       "  </tbody>\n",
       "</table>\n",
       "</div>"
      ],
      "text/plain": [
       "   Unnamed: 0    uid    song_id  play_ratio  freq  user_id_map  song_id_map\n",
       "0           0  12333   703693.0    0.821429    12            0            0\n",
       "1           1  12333   708428.0    9.682796    13            0            1\n",
       "2           2  12333   875447.0    8.418803    11            0            2\n",
       "3           3  12333  5114569.0    7.802120  4092            0            3\n",
       "4           4  12333  5237384.0    8.000000  6079            0            4"
      ]
     },
     "execution_count": 207,
     "metadata": {},
     "output_type": "execute_result"
    }
   ],
   "source": [
    "df_rate.head(5)"
   ]
  },
  {
   "cell_type": "code",
   "execution_count": 208,
   "metadata": {},
   "outputs": [
    {
     "data": {
      "text/plain": [
       "[song_id      6.46889e+06\n",
       " song_type              0\n",
       " song_name             演员\n",
       " singer               薛之谦\n",
       " Name: 478, dtype: object, song_id      1.44159e+07\n",
       " song_type              0\n",
       " song_name            我的猫\n",
       " singer              吉克隽逸\n",
       " Name: 49721, dtype: object, song_id               1.10045e+06\n",
       " song_type                       0\n",
       " song_name    杯水情歌-(电视剧《281封信》片尾曲)\n",
       " singer                         庞龙\n",
       " Name: 35150, dtype: object, song_id      9.87818e+06\n",
       " song_type              0\n",
       " song_name       Jumpshot\n",
       " singer             Dawin\n",
       " Name: 80683, dtype: object, song_id      6.71477e+06\n",
       " song_type              0\n",
       " song_name            七月上\n",
       " singer             Jam阿敬\n",
       " Name: 3065, dtype: object, song_id                      7.10302e+06\n",
       " song_type                              0\n",
       " song_name    Every Time I Hear That Song\n",
       " singer                     Blake Shelton\n",
       " Name: 2914, dtype: object, song_id      696542\n",
       " song_type         0\n",
       " song_name       蓝精灵\n",
       " singer         儿童歌曲\n",
       " Name: 7254, dtype: object, song_id      6.30539e+06\n",
       " song_type              0\n",
       " song_name         Energy\n",
       " singer             Drake\n",
       " Name: 521476, dtype: object, song_id            7.03152e+06\n",
       " song_type                    0\n",
       " song_name    漂洋过海来看你(CCTV音乐频道)\n",
       " singer                     李宗盛\n",
       " Name: 16691, dtype: object, song_id      3.41526e+06\n",
       " song_type              0\n",
       " song_name           到此为止\n",
       " singer               连诗雅\n",
       " Name: 101243, dtype: object]"
      ]
     },
     "execution_count": 208,
     "metadata": {},
     "output_type": "execute_result"
    }
   ],
   "source": [
    "# Show the corresponding \n",
    "recommend_list = []\n",
    "for i in range(10):\n",
    "    song_map_id = unrated_items_by_pred_rating[i]\n",
    "    song_id = df_rate[df_rate['song_id_map'] == song_map_id]['song_id'].unique()[0]\n",
    "    recommend_list.append(df_song_info[df_song_info['song_id'] == song_id].iloc[0])\n",
    "recommend_list"
   ]
  },
  {
   "cell_type": "code",
   "execution_count": 209,
   "metadata": {},
   "outputs": [],
   "source": [
    "df_rate.to_csv('../data/play_rate.csv')"
   ]
  },
  {
   "cell_type": "code",
   "execution_count": null,
   "metadata": {},
   "outputs": [],
   "source": []
  }
 ],
 "metadata": {
  "kernelspec": {
   "display_name": "Python 2",
   "language": "python",
   "name": "python2"
  },
  "language_info": {
   "codemirror_mode": {
    "name": "ipython",
    "version": 2
   },
   "file_extension": ".py",
   "mimetype": "text/x-python",
   "name": "python",
   "nbconvert_exporter": "python",
   "pygments_lexer": "ipython2",
   "version": "2.7.14"
  }
 },
 "nbformat": 4,
 "nbformat_minor": 2
}
